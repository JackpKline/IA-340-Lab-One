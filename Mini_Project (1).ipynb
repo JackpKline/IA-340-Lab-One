{
 "cells": [
  {
   "cell_type": "markdown",
   "id": "6cd57df4-3d5f-498c-b17f-4fc6f27406eb",
   "metadata": {},
   "source": [
    "# IA 340 Mini Project | Personal Income Growth in Iowa"
   ]
  },
  {
   "cell_type": "markdown",
   "id": "afd0a837-74ea-4c2e-a524-9abf68a23688",
   "metadata": {},
   "source": [
    "IA 340 Mini Project: Markdown\n",
    "- **Project Title**: Personal Income Growth in Iowa\n",
    "- **Research Question**: How has personal income changed in Iowa from 1997 to 2024?\n",
    "- **Source**: https://catalog.data.gov/dataset/annual-personal-income-for-state-of-iowa\n",
    "- **Description**: Personal income statistics in Iowa.\n",
    "- **Time Period**: 1997-2024\n",
    "- **Reason for choice**: Follows my interest in economics outside of the east coast."
   ]
  },
  {
   "cell_type": "markdown",
   "id": "fd447302-f46d-4acc-96d4-c0c0f61b1dda",
   "metadata": {},
   "source": [
    "## Step One: Load Data Through S3 Bucket"
   ]
  },
  {
   "cell_type": "code",
   "execution_count": 29,
   "id": "991a47ed-2bec-458a-a072-42a191e3ccc5",
   "metadata": {},
   "outputs": [
    {
     "data": {
      "text/html": [
       "<div>\n",
       "<style scoped>\n",
       "    .dataframe tbody tr th:only-of-type {\n",
       "        vertical-align: middle;\n",
       "    }\n",
       "\n",
       "    .dataframe tbody tr th {\n",
       "        vertical-align: top;\n",
       "    }\n",
       "\n",
       "    .dataframe thead th {\n",
       "        text-align: right;\n",
       "    }\n",
       "</style>\n",
       "<table border=\"1\" class=\"dataframe\">\n",
       "  <thead>\n",
       "    <tr style=\"text-align: right;\">\n",
       "      <th></th>\n",
       "      <th>Row ID</th>\n",
       "      <th>Table Code</th>\n",
       "      <th>Table Name</th>\n",
       "      <th>Variable Code</th>\n",
       "      <th>Variable</th>\n",
       "      <th>Value</th>\n",
       "      <th>Variable Unit</th>\n",
       "      <th>Date</th>\n",
       "    </tr>\n",
       "  </thead>\n",
       "  <tbody>\n",
       "    <tr>\n",
       "      <th>0</th>\n",
       "      <td>19000_1997_SAINC1-1_annual</td>\n",
       "      <td>SAINC1</td>\n",
       "      <td>Personal Income Summary</td>\n",
       "      <td>SAINC1-1</td>\n",
       "      <td>Personal income</td>\n",
       "      <td>69908</td>\n",
       "      <td>Millions of dollars</td>\n",
       "      <td>12/31/1997</td>\n",
       "    </tr>\n",
       "    <tr>\n",
       "      <th>1</th>\n",
       "      <td>19000_1998_SAINC1-1_annual</td>\n",
       "      <td>SAINC1</td>\n",
       "      <td>Personal Income Summary</td>\n",
       "      <td>SAINC1-1</td>\n",
       "      <td>Personal income</td>\n",
       "      <td>73148</td>\n",
       "      <td>Millions of dollars</td>\n",
       "      <td>12/31/1998</td>\n",
       "    </tr>\n",
       "    <tr>\n",
       "      <th>2</th>\n",
       "      <td>19000_1999_SAINC1-1_annual</td>\n",
       "      <td>SAINC1</td>\n",
       "      <td>Personal Income Summary</td>\n",
       "      <td>SAINC1-1</td>\n",
       "      <td>Personal income</td>\n",
       "      <td>74999</td>\n",
       "      <td>Millions of dollars</td>\n",
       "      <td>12/31/1999</td>\n",
       "    </tr>\n",
       "    <tr>\n",
       "      <th>3</th>\n",
       "      <td>19000_2000_SAINC1-1_annual</td>\n",
       "      <td>SAINC1</td>\n",
       "      <td>Personal Income Summary</td>\n",
       "      <td>SAINC1-1</td>\n",
       "      <td>Personal income</td>\n",
       "      <td>80083</td>\n",
       "      <td>Millions of dollars</td>\n",
       "      <td>12/31/2000</td>\n",
       "    </tr>\n",
       "    <tr>\n",
       "      <th>4</th>\n",
       "      <td>19000_2001_SAINC1-1_annual</td>\n",
       "      <td>SAINC1</td>\n",
       "      <td>Personal Income Summary</td>\n",
       "      <td>SAINC1-1</td>\n",
       "      <td>Personal income</td>\n",
       "      <td>82520</td>\n",
       "      <td>Millions of dollars</td>\n",
       "      <td>12/31/2001</td>\n",
       "    </tr>\n",
       "  </tbody>\n",
       "</table>\n",
       "</div>"
      ],
      "text/plain": [
       "                       Row ID Table Code               Table Name  \\\n",
       "0  19000_1997_SAINC1-1_annual     SAINC1  Personal Income Summary   \n",
       "1  19000_1998_SAINC1-1_annual     SAINC1  Personal Income Summary   \n",
       "2  19000_1999_SAINC1-1_annual     SAINC1  Personal Income Summary   \n",
       "3  19000_2000_SAINC1-1_annual     SAINC1  Personal Income Summary   \n",
       "4  19000_2001_SAINC1-1_annual     SAINC1  Personal Income Summary   \n",
       "\n",
       "  Variable Code         Variable  Value        Variable Unit        Date  \n",
       "0      SAINC1-1  Personal income  69908  Millions of dollars  12/31/1997  \n",
       "1      SAINC1-1  Personal income  73148  Millions of dollars  12/31/1998  \n",
       "2      SAINC1-1  Personal income  74999  Millions of dollars  12/31/1999  \n",
       "3      SAINC1-1  Personal income  80083  Millions of dollars  12/31/2000  \n",
       "4      SAINC1-1  Personal income  82520  Millions of dollars  12/31/2001  "
      ]
     },
     "execution_count": 29,
     "metadata": {},
     "output_type": "execute_result"
    }
   ],
   "source": [
    "#Import Librairies \n",
    "import pandas as pd\n",
    "import boto3\n",
    "\n",
    "#Read CSV from my S3 Bucket\n",
    "s3_path = 's3://ia-340-fall-kline/Annual_Personal_Income_for_State_of_Iowa.csv'\n",
    "\n",
    "#Load data into pandas\n",
    "df = pd.read_csv(s3_path)\n",
    "\n",
    "#Displays the first 5 rows\n",
    "df.head()"
   ]
  },
  {
   "cell_type": "markdown",
   "id": "0716672b-60bf-4742-aca6-c6f7eb30957d",
   "metadata": {},
   "source": [
    "## Step Two: Clean Data"
   ]
  },
  {
   "cell_type": "code",
   "execution_count": 7,
   "id": "c73fdb4f-5dce-494f-9388-f5e88a15c05d",
   "metadata": {},
   "outputs": [
    {
     "name": "stdout",
     "output_type": "stream",
     "text": [
      "<class 'pandas.core.frame.DataFrame'>\n",
      "RangeIndex: 7095 entries, 0 to 7094\n",
      "Data columns (total 8 columns):\n",
      " #   Column         Non-Null Count  Dtype \n",
      "---  ------         --------------  ----- \n",
      " 0   Row ID         7095 non-null   object\n",
      " 1   Table Code     7095 non-null   object\n",
      " 2   Table Name     7095 non-null   object\n",
      " 3   Variable Code  7095 non-null   object\n",
      " 4   Variable       7095 non-null   object\n",
      " 5   Value          7095 non-null   int64 \n",
      " 6   Variable Unit  7095 non-null   object\n",
      " 7   Date           7095 non-null   object\n",
      "dtypes: int64(1), object(7)\n",
      "memory usage: 443.6+ KB\n"
     ]
    }
   ],
   "source": [
    "#Shows dataset overview and summarizes statistics\n",
    "df.info()"
   ]
  },
  {
   "cell_type": "code",
   "execution_count": 8,
   "id": "dc34d832-3d59-4d8c-9774-ba443495816a",
   "metadata": {},
   "outputs": [
    {
     "data": {
      "text/html": [
       "<div>\n",
       "<style scoped>\n",
       "    .dataframe tbody tr th:only-of-type {\n",
       "        vertical-align: middle;\n",
       "    }\n",
       "\n",
       "    .dataframe tbody tr th {\n",
       "        vertical-align: top;\n",
       "    }\n",
       "\n",
       "    .dataframe thead th {\n",
       "        text-align: right;\n",
       "    }\n",
       "</style>\n",
       "<table border=\"1\" class=\"dataframe\">\n",
       "  <thead>\n",
       "    <tr style=\"text-align: right;\">\n",
       "      <th></th>\n",
       "      <th>Value</th>\n",
       "    </tr>\n",
       "  </thead>\n",
       "  <tbody>\n",
       "    <tr>\n",
       "      <th>count</th>\n",
       "      <td>7.095000e+03</td>\n",
       "    </tr>\n",
       "    <tr>\n",
       "      <th>mean</th>\n",
       "      <td>4.764361e+06</td>\n",
       "    </tr>\n",
       "    <tr>\n",
       "      <th>std</th>\n",
       "      <td>1.590944e+07</td>\n",
       "    </tr>\n",
       "    <tr>\n",
       "      <th>min</th>\n",
       "      <td>-5.065000e+03</td>\n",
       "    </tr>\n",
       "    <tr>\n",
       "      <th>25%</th>\n",
       "      <td>7.179400e+04</td>\n",
       "    </tr>\n",
       "    <tr>\n",
       "      <th>50%</th>\n",
       "      <td>4.792240e+05</td>\n",
       "    </tr>\n",
       "    <tr>\n",
       "      <th>75%</th>\n",
       "      <td>2.235587e+06</td>\n",
       "    </tr>\n",
       "    <tr>\n",
       "      <th>max</th>\n",
       "      <td>2.013328e+08</td>\n",
       "    </tr>\n",
       "  </tbody>\n",
       "</table>\n",
       "</div>"
      ],
      "text/plain": [
       "              Value\n",
       "count  7.095000e+03\n",
       "mean   4.764361e+06\n",
       "std    1.590944e+07\n",
       "min   -5.065000e+03\n",
       "25%    7.179400e+04\n",
       "50%    4.792240e+05\n",
       "75%    2.235587e+06\n",
       "max    2.013328e+08"
      ]
     },
     "execution_count": 8,
     "metadata": {},
     "output_type": "execute_result"
    }
   ],
   "source": [
    "df.describe()"
   ]
  },
  {
   "cell_type": "code",
   "execution_count": 9,
   "id": "c332670b-4f04-495c-83e4-446f3d32e974",
   "metadata": {},
   "outputs": [
    {
     "data": {
      "text/plain": [
       "Row ID           0\n",
       "Table Code       0\n",
       "Table Name       0\n",
       "Variable Code    0\n",
       "Variable         0\n",
       "Value            0\n",
       "Variable Unit    0\n",
       "Date             0\n",
       "dtype: int64"
      ]
     },
     "execution_count": 9,
     "metadata": {},
     "output_type": "execute_result"
    }
   ],
   "source": [
    "#Checks for missing values\n",
    "df.isnull().sum()"
   ]
  },
  {
   "cell_type": "code",
   "execution_count": 17,
   "id": "b78c2274-6139-4d10-9aed-5b5274079272",
   "metadata": {},
   "outputs": [
    {
     "name": "stdout",
     "output_type": "stream",
     "text": [
      "Number of duplicate rows: 0\n"
     ]
    }
   ],
   "source": [
    "#Counts duplicates\n",
    "duplicates = df.duplicated().sum()\n",
    "print(f\"Number of duplicate rows: {duplicates}\")"
   ]
  },
  {
   "cell_type": "code",
   "execution_count": 30,
   "id": "269d02d3-db4d-466e-90a7-feaa90814832",
   "metadata": {},
   "outputs": [
    {
     "name": "stdout",
     "output_type": "stream",
     "text": [
      "<class 'pandas.core.frame.DataFrame'>\n",
      "RangeIndex: 7095 entries, 0 to 7094\n",
      "Data columns (total 8 columns):\n",
      " #   Column         Non-Null Count  Dtype         \n",
      "---  ------         --------------  -----         \n",
      " 0   Row ID         7095 non-null   object        \n",
      " 1   Table Code     7095 non-null   object        \n",
      " 2   Table Name     7095 non-null   object        \n",
      " 3   Variable Code  7095 non-null   object        \n",
      " 4   Variable       7095 non-null   object        \n",
      " 5   Value          7095 non-null   int64         \n",
      " 6   Variable Unit  7095 non-null   object        \n",
      " 7   Date           7095 non-null   datetime64[ns]\n",
      "dtypes: datetime64[ns](1), int64(1), object(6)\n",
      "memory usage: 443.6+ KB\n"
     ]
    }
   ],
   "source": [
    "# Check the first few values to confirm format\n",
    "df['Date'].head()\n",
    "\n",
    "# Convert 'Date' to datetime format\n",
    "df['Date'] = pd.to_datetime(df['Date'], errors='coerce')\n",
    "\n",
    "# Verify the conversion\n",
    "df.info()"
   ]
  },
  {
   "cell_type": "code",
   "execution_count": 20,
   "id": "7bf86d67-5ae1-4954-9178-fa70f51d8d89",
   "metadata": {},
   "outputs": [
    {
     "name": "stdout",
     "output_type": "stream",
     "text": [
      "Original shape: (7095, 9)\n",
      "Cleaned shape: (7095, 9)\n"
     ]
    },
    {
     "data": {
      "text/html": [
       "<div>\n",
       "<style scoped>\n",
       "    .dataframe tbody tr th:only-of-type {\n",
       "        vertical-align: middle;\n",
       "    }\n",
       "\n",
       "    .dataframe tbody tr th {\n",
       "        vertical-align: top;\n",
       "    }\n",
       "\n",
       "    .dataframe thead th {\n",
       "        text-align: right;\n",
       "    }\n",
       "</style>\n",
       "<table border=\"1\" class=\"dataframe\">\n",
       "  <thead>\n",
       "    <tr style=\"text-align: right;\">\n",
       "      <th></th>\n",
       "      <th>rows_removed_missing</th>\n",
       "      <th>duplicates_removed</th>\n",
       "      <th>datatype_fixes</th>\n",
       "    </tr>\n",
       "  </thead>\n",
       "  <tbody>\n",
       "    <tr>\n",
       "      <th>0</th>\n",
       "      <td>7095</td>\n",
       "      <td>0</td>\n",
       "      <td>[Year → int, Personal_Income → numeric, Date →...</td>\n",
       "    </tr>\n",
       "  </tbody>\n",
       "</table>\n",
       "</div>"
      ],
      "text/plain": [
       "   rows_removed_missing  duplicates_removed  \\\n",
       "0                  7095                   0   \n",
       "\n",
       "                                      datatype_fixes  \n",
       "0  [Year → int, Personal_Income → numeric, Date →...  "
      ]
     },
     "execution_count": 20,
     "metadata": {},
     "output_type": "execute_result"
    }
   ],
   "source": [
    "#Compares original and cleaned data\n",
    "print(\"Original shape:\", df.shape)\n",
    "print(\"Cleaned shape:\", df.shape)\n",
    "\n",
    "#Calculates how many rows changed\n",
    "rows_removed_missing = df.shape[0] - df.dropna().shape[0]\n",
    "duplicates_removed = df.duplicated().sum()\n",
    "\n",
    "#Summarizes of cleaning actions\n",
    "summary = {\n",
    "    \"rows_removed_missing\": rows_removed_missing,\n",
    "    \"duplicates_removed\": duplicates_removed,\n",
    "    \"datatype_fixes\": [\n",
    "        \"Year → int\",\n",
    "        \"Personal_Income → numeric\",\n",
    "        \"Date → datetime64\"\n",
    "    ]\n",
    "}\n",
    "\n",
    "#Display of summary\n",
    "pd.DataFrame([summary])"
   ]
  },
  {
   "cell_type": "markdown",
   "id": "ddc8ef1c-a74d-4a2d-a892-562344136d09",
   "metadata": {},
   "source": [
    "In order to clear the data, I checked for null values and missing values in which there were none. That being said, I did not have to remove any data as the dataset was already relatively clean."
   ]
  },
  {
   "cell_type": "markdown",
   "id": "048bdc81-c744-4d55-ba99-3822a0b27117",
   "metadata": {},
   "source": [
    "## Step Three: Process/Aggregate"
   ]
  },
  {
   "cell_type": "code",
   "execution_count": 31,
   "id": "9a365e9f-b6a3-400a-8823-916e12a56c00",
   "metadata": {},
   "outputs": [
    {
     "name": "stdout",
     "output_type": "stream",
     "text": [
      "        Date  Average_Income\n",
      "0 1997-12-31    2.351435e+04\n",
      "1 1998-12-31    2.876013e+06\n",
      "2 1999-12-31    3.000470e+06\n",
      "3 2000-12-31    3.179036e+06\n",
      "4 2001-12-31    3.255195e+06\n"
     ]
    }
   ],
   "source": [
    "#Group by Date and compute average income value\n",
    "income_summary = df.groupby('Date')['Value'].mean().reset_index()\n",
    "\n",
    "#Rename for clarity\n",
    "income_summary.rename(columns={'Value': 'Average_Income'}, inplace=True)\n",
    "\n",
    "#Displays the result\n",
    "print(income_summary.head())"
   ]
  },
  {
   "cell_type": "code",
   "execution_count": 32,
   "id": "b09d71ea-6ac9-4270-9db2-b14e9adf1434",
   "metadata": {},
   "outputs": [
    {
     "name": "stdout",
     "output_type": "stream",
     "text": [
      "        Date  Average_Income  Percent_Change\n",
      "0 1997-12-31    2.351435e+04             NaN\n",
      "1 1998-12-31    2.876013e+06    12130.884706\n",
      "2 1999-12-31    3.000470e+06        4.327438\n",
      "3 2000-12-31    3.179036e+06        5.951250\n",
      "4 2001-12-31    3.255195e+06        2.395651\n"
     ]
    }
   ],
   "source": [
    "#Calculates percent change in average income\n",
    "income_summary['Percent_Change'] = income_summary['Average_Income'].pct_change() * 100\n",
    "\n",
    "print(income_summary.head())"
   ]
  },
  {
   "cell_type": "markdown",
   "id": "22057430-c48f-405d-bdb7-fa658abd09d7",
   "metadata": {},
   "source": [
    "Explanation: The aggregation summarizes income trends across years, allowing for a more clear analysis of how personal income in Iowa has changed over time. The new variable 'Percent_Change' helps depict periods of expansion and recession, which supports my research question."
   ]
  },
  {
   "cell_type": "markdown",
   "id": "c5fdec7b-9c43-49a3-a48d-194ef27c882b",
   "metadata": {},
   "source": [
    "## Step Four: Query"
   ]
  },
  {
   "cell_type": "code",
   "execution_count": 34,
   "id": "c71870f7-d226-4a1d-9d2e-4d2207492c6a",
   "metadata": {},
   "outputs": [
    {
     "data": {
      "text/html": [
       "<div>\n",
       "<style scoped>\n",
       "    .dataframe tbody tr th:only-of-type {\n",
       "        vertical-align: middle;\n",
       "    }\n",
       "\n",
       "    .dataframe tbody tr th {\n",
       "        vertical-align: top;\n",
       "    }\n",
       "\n",
       "    .dataframe thead th {\n",
       "        text-align: right;\n",
       "    }\n",
       "</style>\n",
       "<table border=\"1\" class=\"dataframe\">\n",
       "  <thead>\n",
       "    <tr style=\"text-align: right;\">\n",
       "      <th></th>\n",
       "      <th>Row ID</th>\n",
       "      <th>Table Code</th>\n",
       "      <th>Table Name</th>\n",
       "      <th>Variable Code</th>\n",
       "      <th>Variable</th>\n",
       "      <th>Value</th>\n",
       "      <th>Variable Unit</th>\n",
       "      <th>Date</th>\n",
       "    </tr>\n",
       "  </thead>\n",
       "  <tbody>\n",
       "    <tr>\n",
       "      <th>24</th>\n",
       "      <td>19000_2020_SAINC1-1_annual</td>\n",
       "      <td>SAINC1</td>\n",
       "      <td>Personal Income Summary</td>\n",
       "      <td>SAINC1-1</td>\n",
       "      <td>Personal income</td>\n",
       "      <td>167920</td>\n",
       "      <td>Millions of dollars</td>\n",
       "      <td>2020-12-31</td>\n",
       "    </tr>\n",
       "    <tr>\n",
       "      <th>51</th>\n",
       "      <td>19000_2020_SAINC1-3_annual</td>\n",
       "      <td>SAINC1</td>\n",
       "      <td>Personal Income Summary</td>\n",
       "      <td>SAINC1-3</td>\n",
       "      <td>Per capita personal income</td>\n",
       "      <td>52625</td>\n",
       "      <td>Dollars</td>\n",
       "      <td>2020-12-31</td>\n",
       "    </tr>\n",
       "    <tr>\n",
       "      <th>78</th>\n",
       "      <td>19000_2020_SAINC4-10_annual</td>\n",
       "      <td>SAINC4-10</td>\n",
       "      <td>SAINC4-10</td>\n",
       "      <td>SAINC4-10</td>\n",
       "      <td>Personal income</td>\n",
       "      <td>167920</td>\n",
       "      <td>Millions of dollars</td>\n",
       "      <td>2020-12-31</td>\n",
       "    </tr>\n",
       "    <tr>\n",
       "      <th>105</th>\n",
       "      <td>19000_2020_SAINC4-11_annual</td>\n",
       "      <td>SAINC4-11</td>\n",
       "      <td>SAINC4-11</td>\n",
       "      <td>SAINC4-11</td>\n",
       "      <td>Nonfarm personal income</td>\n",
       "      <td>165485</td>\n",
       "      <td>Millions of dollars</td>\n",
       "      <td>2020-12-31</td>\n",
       "    </tr>\n",
       "    <tr>\n",
       "      <th>132</th>\n",
       "      <td>19000_2020_SAINC4-12_annual</td>\n",
       "      <td>SAINC4-12</td>\n",
       "      <td>SAINC4-12</td>\n",
       "      <td>SAINC4-12</td>\n",
       "      <td>Farm income</td>\n",
       "      <td>2435</td>\n",
       "      <td>Millions of dollars</td>\n",
       "      <td>2020-12-31</td>\n",
       "    </tr>\n",
       "  </tbody>\n",
       "</table>\n",
       "</div>"
      ],
      "text/plain": [
       "                          Row ID Table Code               Table Name  \\\n",
       "24    19000_2020_SAINC1-1_annual     SAINC1  Personal Income Summary   \n",
       "51    19000_2020_SAINC1-3_annual     SAINC1  Personal Income Summary   \n",
       "78   19000_2020_SAINC4-10_annual  SAINC4-10                SAINC4-10   \n",
       "105  19000_2020_SAINC4-11_annual  SAINC4-11                SAINC4-11   \n",
       "132  19000_2020_SAINC4-12_annual  SAINC4-12                SAINC4-12   \n",
       "\n",
       "    Variable Code                    Variable   Value        Variable Unit  \\\n",
       "24       SAINC1-1             Personal income  167920  Millions of dollars   \n",
       "51       SAINC1-3  Per capita personal income   52625              Dollars   \n",
       "78      SAINC4-10             Personal income  167920  Millions of dollars   \n",
       "105     SAINC4-11     Nonfarm personal income  165485  Millions of dollars   \n",
       "132     SAINC4-12                 Farm income    2435  Millions of dollars   \n",
       "\n",
       "          Date  \n",
       "24  2020-12-31  \n",
       "51  2020-12-31  \n",
       "78  2020-12-31  \n",
       "105 2020-12-31  \n",
       "132 2020-12-31  "
      ]
     },
     "execution_count": 34,
     "metadata": {},
     "output_type": "execute_result"
    }
   ],
   "source": [
    "#Filter for the year 2020\n",
    "income_2020 = df[df['Date'].dt.year == 2020]\n",
    "\n",
    "#Displays the first few rows\n",
    "income_2020.head()"
   ]
  },
  {
   "cell_type": "code",
   "execution_count": 35,
   "id": "54d57c5b-94cd-4d18-84c4-2f0573c11d39",
   "metadata": {},
   "outputs": [
    {
     "data": {
      "text/html": [
       "<div>\n",
       "<style scoped>\n",
       "    .dataframe tbody tr th:only-of-type {\n",
       "        vertical-align: middle;\n",
       "    }\n",
       "\n",
       "    .dataframe tbody tr th {\n",
       "        vertical-align: top;\n",
       "    }\n",
       "\n",
       "    .dataframe thead th {\n",
       "        text-align: right;\n",
       "    }\n",
       "</style>\n",
       "<table border=\"1\" class=\"dataframe\">\n",
       "  <thead>\n",
       "    <tr style=\"text-align: right;\">\n",
       "      <th></th>\n",
       "      <th>Row ID</th>\n",
       "      <th>Table Code</th>\n",
       "      <th>Table Name</th>\n",
       "      <th>Variable Code</th>\n",
       "      <th>Variable</th>\n",
       "      <th>Value</th>\n",
       "      <th>Variable Unit</th>\n",
       "      <th>Date</th>\n",
       "    </tr>\n",
       "  </thead>\n",
       "  <tbody>\n",
       "    <tr>\n",
       "      <th>0</th>\n",
       "      <td>19000_1997_SAINC1-1_annual</td>\n",
       "      <td>SAINC1</td>\n",
       "      <td>Personal Income Summary</td>\n",
       "      <td>SAINC1-1</td>\n",
       "      <td>Personal income</td>\n",
       "      <td>69908</td>\n",
       "      <td>Millions of dollars</td>\n",
       "      <td>1997-12-31</td>\n",
       "    </tr>\n",
       "    <tr>\n",
       "      <th>1</th>\n",
       "      <td>19000_1998_SAINC1-1_annual</td>\n",
       "      <td>SAINC1</td>\n",
       "      <td>Personal Income Summary</td>\n",
       "      <td>SAINC1-1</td>\n",
       "      <td>Personal income</td>\n",
       "      <td>73148</td>\n",
       "      <td>Millions of dollars</td>\n",
       "      <td>1998-12-31</td>\n",
       "    </tr>\n",
       "    <tr>\n",
       "      <th>2</th>\n",
       "      <td>19000_1999_SAINC1-1_annual</td>\n",
       "      <td>SAINC1</td>\n",
       "      <td>Personal Income Summary</td>\n",
       "      <td>SAINC1-1</td>\n",
       "      <td>Personal income</td>\n",
       "      <td>74999</td>\n",
       "      <td>Millions of dollars</td>\n",
       "      <td>1999-12-31</td>\n",
       "    </tr>\n",
       "    <tr>\n",
       "      <th>3</th>\n",
       "      <td>19000_2000_SAINC1-1_annual</td>\n",
       "      <td>SAINC1</td>\n",
       "      <td>Personal Income Summary</td>\n",
       "      <td>SAINC1-1</td>\n",
       "      <td>Personal income</td>\n",
       "      <td>80083</td>\n",
       "      <td>Millions of dollars</td>\n",
       "      <td>2000-12-31</td>\n",
       "    </tr>\n",
       "    <tr>\n",
       "      <th>4</th>\n",
       "      <td>19000_2001_SAINC1-1_annual</td>\n",
       "      <td>SAINC1</td>\n",
       "      <td>Personal Income Summary</td>\n",
       "      <td>SAINC1-1</td>\n",
       "      <td>Personal income</td>\n",
       "      <td>82520</td>\n",
       "      <td>Millions of dollars</td>\n",
       "      <td>2001-12-31</td>\n",
       "    </tr>\n",
       "  </tbody>\n",
       "</table>\n",
       "</div>"
      ],
      "text/plain": [
       "                       Row ID Table Code               Table Name  \\\n",
       "0  19000_1997_SAINC1-1_annual     SAINC1  Personal Income Summary   \n",
       "1  19000_1998_SAINC1-1_annual     SAINC1  Personal Income Summary   \n",
       "2  19000_1999_SAINC1-1_annual     SAINC1  Personal Income Summary   \n",
       "3  19000_2000_SAINC1-1_annual     SAINC1  Personal Income Summary   \n",
       "4  19000_2001_SAINC1-1_annual     SAINC1  Personal Income Summary   \n",
       "\n",
       "  Variable Code         Variable  Value        Variable Unit       Date  \n",
       "0      SAINC1-1  Personal income  69908  Millions of dollars 1997-12-31  \n",
       "1      SAINC1-1  Personal income  73148  Millions of dollars 1998-12-31  \n",
       "2      SAINC1-1  Personal income  74999  Millions of dollars 1999-12-31  \n",
       "3      SAINC1-1  Personal income  80083  Millions of dollars 2000-12-31  \n",
       "4      SAINC1-1  Personal income  82520  Millions of dollars 2001-12-31  "
      ]
     },
     "execution_count": 35,
     "metadata": {},
     "output_type": "execute_result"
    }
   ],
   "source": [
    "#Filter for values above 50,000\n",
    "high_income = df[df['Value'] > 50000]\n",
    "\n",
    "#Displays results\n",
    "high_income.head()"
   ]
  },
  {
   "cell_type": "markdown",
   "id": "42ee64c1-9266-4a46-a5c4-112018367ff2",
   "metadata": {},
   "source": [
    "Explanation: This query allows for selective analysis of personal income in Iowa. By filtering for a specific year, in this case 2020, I can closey look at Iowa’s income data during a specifec period, such as prior to or post an crucial economic event. Alternatively, applying a threshold, incomes above $50,000, tranistions the focus to high income groups, which supports the research question about income distribution/trends in the state of Iowa."
   ]
  },
  {
   "cell_type": "markdown",
   "id": "37b5e75c-d264-4e61-ae78-38f3960a15c6",
   "metadata": {},
   "source": [
    "## Step Five: Visualizations"
   ]
  },
  {
   "cell_type": "code",
   "execution_count": 36,
   "id": "55cebddb-4327-479a-9331-6ef724c05e91",
   "metadata": {},
   "outputs": [
    {
     "data": {
      "text/html": [
       "<div>\n",
       "<style scoped>\n",
       "    .dataframe tbody tr th:only-of-type {\n",
       "        vertical-align: middle;\n",
       "    }\n",
       "\n",
       "    .dataframe tbody tr th {\n",
       "        vertical-align: top;\n",
       "    }\n",
       "\n",
       "    .dataframe thead th {\n",
       "        text-align: right;\n",
       "    }\n",
       "</style>\n",
       "<table border=\"1\" class=\"dataframe\">\n",
       "  <thead>\n",
       "    <tr style=\"text-align: right;\">\n",
       "      <th></th>\n",
       "      <th>Row ID</th>\n",
       "      <th>Table Code</th>\n",
       "      <th>Table Name</th>\n",
       "      <th>Variable Code</th>\n",
       "      <th>Variable</th>\n",
       "      <th>Value</th>\n",
       "      <th>Variable Unit</th>\n",
       "      <th>Date</th>\n",
       "    </tr>\n",
       "  </thead>\n",
       "  <tbody>\n",
       "    <tr>\n",
       "      <th>0</th>\n",
       "      <td>19000_1997_SAINC1-1_annual</td>\n",
       "      <td>SAINC1</td>\n",
       "      <td>Personal Income Summary</td>\n",
       "      <td>SAINC1-1</td>\n",
       "      <td>Personal income</td>\n",
       "      <td>69908</td>\n",
       "      <td>Millions of dollars</td>\n",
       "      <td>1997-12-31</td>\n",
       "    </tr>\n",
       "    <tr>\n",
       "      <th>1</th>\n",
       "      <td>19000_1998_SAINC1-1_annual</td>\n",
       "      <td>SAINC1</td>\n",
       "      <td>Personal Income Summary</td>\n",
       "      <td>SAINC1-1</td>\n",
       "      <td>Personal income</td>\n",
       "      <td>73148</td>\n",
       "      <td>Millions of dollars</td>\n",
       "      <td>1998-12-31</td>\n",
       "    </tr>\n",
       "    <tr>\n",
       "      <th>2</th>\n",
       "      <td>19000_1999_SAINC1-1_annual</td>\n",
       "      <td>SAINC1</td>\n",
       "      <td>Personal Income Summary</td>\n",
       "      <td>SAINC1-1</td>\n",
       "      <td>Personal income</td>\n",
       "      <td>74999</td>\n",
       "      <td>Millions of dollars</td>\n",
       "      <td>1999-12-31</td>\n",
       "    </tr>\n",
       "    <tr>\n",
       "      <th>3</th>\n",
       "      <td>19000_2000_SAINC1-1_annual</td>\n",
       "      <td>SAINC1</td>\n",
       "      <td>Personal Income Summary</td>\n",
       "      <td>SAINC1-1</td>\n",
       "      <td>Personal income</td>\n",
       "      <td>80083</td>\n",
       "      <td>Millions of dollars</td>\n",
       "      <td>2000-12-31</td>\n",
       "    </tr>\n",
       "    <tr>\n",
       "      <th>4</th>\n",
       "      <td>19000_2001_SAINC1-1_annual</td>\n",
       "      <td>SAINC1</td>\n",
       "      <td>Personal Income Summary</td>\n",
       "      <td>SAINC1-1</td>\n",
       "      <td>Personal income</td>\n",
       "      <td>82520</td>\n",
       "      <td>Millions of dollars</td>\n",
       "      <td>2001-12-31</td>\n",
       "    </tr>\n",
       "  </tbody>\n",
       "</table>\n",
       "</div>"
      ],
      "text/plain": [
       "                       Row ID Table Code               Table Name  \\\n",
       "0  19000_1997_SAINC1-1_annual     SAINC1  Personal Income Summary   \n",
       "1  19000_1998_SAINC1-1_annual     SAINC1  Personal Income Summary   \n",
       "2  19000_1999_SAINC1-1_annual     SAINC1  Personal Income Summary   \n",
       "3  19000_2000_SAINC1-1_annual     SAINC1  Personal Income Summary   \n",
       "4  19000_2001_SAINC1-1_annual     SAINC1  Personal Income Summary   \n",
       "\n",
       "  Variable Code         Variable  Value        Variable Unit       Date  \n",
       "0      SAINC1-1  Personal income  69908  Millions of dollars 1997-12-31  \n",
       "1      SAINC1-1  Personal income  73148  Millions of dollars 1998-12-31  \n",
       "2      SAINC1-1  Personal income  74999  Millions of dollars 1999-12-31  \n",
       "3      SAINC1-1  Personal income  80083  Millions of dollars 2000-12-31  \n",
       "4      SAINC1-1  Personal income  82520  Millions of dollars 2001-12-31  "
      ]
     },
     "execution_count": 36,
     "metadata": {},
     "output_type": "execute_result"
    }
   ],
   "source": [
    "df.head()"
   ]
  },
  {
   "cell_type": "code",
   "execution_count": 38,
   "id": "1a462282-537c-4376-b28c-b3b4cfdd30c3",
   "metadata": {},
   "outputs": [
    {
     "data": {
      "image/png": "[encoded data removed]",
      "text/plain": [
       "<Figure size 1000x600 with 1 Axes>"
      ]
     },
     "metadata": {},
     "output_type": "display_data"
    }
   ],
   "source": [
    "df[\"Year\"] = df[\"Date\"].dt.year\n",
    "\n",
    "# Group by year and compute the average income\n",
    "avg_income = df.groupby(\"Year\")[\"Value\"].mean().reset_index()\n",
    "\n",
    "# Sort by Year (just in case)\n",
    "avg_income = avg_income.sort_values(\"Year\")\n",
    "\n",
    "# Plot the average personal income per year\n",
    "plt.figure(figsize=(10,6))\n",
    "plt.plot(avg_income[\"Year\"], avg_income[\"Value\"]/1e9, marker='o', color='darkgreen', linewidth=2)\n",
    "plt.title(\"Average Personal Income in Iowa by Year (1997–2024)\", fontsize=14, fontweight='bold')\n",
    "plt.xlabel(\"Year\")\n",
    "plt.ylabel(\"Average Personal Income (Billions of USD)\")\n",
    "plt.grid(True, linestyle='--', alpha=0.7)\n",
    "plt.tight_layout()\n",
    "plt.show()"
   ]
  },
  {
   "cell_type": "markdown",
   "id": "95f348e8-fe0a-45a8-a8f1-f1e774df24c2",
   "metadata": {},
   "source": [
    "The line chart above presents how Iowa’s total personal income has changed from 1997 to 2024.  \n",
    "The steady upward slope reflects long-term economic growth, with occasional dips during  \n",
    "economic downturns (such as the 2008–2009 recession or early 2020s disruptions).  \n",
    "Overall, the trend suggests consistent increases in personal income across the period."
   ]
  },
  {
   "cell_type": "code",
   "execution_count": 57,
   "id": "cd9ad35f-bb12-4761-a406-816ca4ec2705",
   "metadata": {},
   "outputs": [],
   "source": [
    "import pandas as pd\n",
    "import matplotlib.pyplot as plt\n",
    "import seaborn as sns\n",
    "import numpy as np\n",
    "\n",
    "# Assuming df is already loaded\n",
    "df['Year'] = pd.to_datetime(df['Date']).dt.year\n",
    "df = df.sort_values('Year')\n",
    "\n",
    "# Calculate Year-over-Year growth (%)\n",
    "df['YoY_Growth_%'] = df['Value'].pct_change() * 100\n"
   ]
  },
  {
   "cell_type": "code",
   "execution_count": 59,
   "id": "1bf46c1d-7be7-4424-b8ee-0b9c7d4090a0",
   "metadata": {},
   "outputs": [
    {
     "data": {
      "image/png": "[encoded data removed]",
      "text/plain": [
       "<Figure size 1200x600 with 1 Axes>"
      ]
     },
     "metadata": {},
     "output_type": "display_data"
    }
   ],
   "source": [
    "import pandas as pd\n",
    "import matplotlib.pyplot as plt\n",
    "import numpy as np\n",
    "\n",
    "# Compute Year and Growth\n",
    "df['Year'] = pd.to_datetime(df['Date']).dt.year\n",
    "df = df.sort_values('Year')\n",
    "df['YoY_Growth_%'] = df['Value'].pct_change() * 100\n",
    "\n",
    "# Drop NaN values\n",
    "df_clean = df.dropna(subset=['YoY_Growth_%'])\n",
    "\n",
    "# Create the lollipop chart (Matplotlib 3.8+ compatible)\n",
    "plt.figure(figsize=(12,6))\n",
    "\n",
    "# Draw the stems manually (no deprecated args)\n",
    "for i, row in df_clean.iterrows():\n",
    "    plt.plot([row['Year'], row['Year']], [0, row['YoY_Growth_%']], color='gray', linewidth=1)\n",
    "\n",
    "# Draw the circular markers\n",
    "colors = ['green' if val >= 0 else 'red' for val in df_clean['YoY_Growth_%']]\n",
    "plt.scatter(df_clean['Year'], df_clean['YoY_Growth_%'], color=colors, s=80, zorder=3)\n",
    "\n",
    "# Add chart labels and styling\n",
    "plt.title('Year-over-Year Growth in Personal Income — Iowa', fontsize=14, fontweight='bold')\n",
    "plt.xlabel('Year')\n",
    "plt.ylabel('YoY Growth (%)')\n",
    "plt.axhline(0, color='black', linewidth=0.8)\n",
    "plt.grid(True, linestyle='--', alpha=0.5)\n",
    "plt.tight_layout()\n",
    "plt.show()\n"
   ]
  },
  {
   "cell_type": "markdown",
   "id": "b88c4208-95f3-40e5-99c1-0be4f55e4b19",
   "metadata": {},
   "source": [
    "This lollipop chart shows Iowa’s year-over-year personal income growth. The vertical stems exemplify the magnitude of change, and color-coded dots highlight whether growth was positive (labeled in green) or negative (labeled in red). This chart effectively presents economic fluctuations without t"
   ]
  }
 ],
 "metadata": {
  "kernelspec": {
   "display_name": "conda_python3",
   "language": "python",
   "name": "conda_python3"
  },
  "language_info": {
   "codemirror_mode": {
    "name": "ipython",
    "version": 3
   },
   "file_extension": ".py",
   "mimetype": "text/x-python",
   "name": "python",
   "nbconvert_exporter": "python",
   "pygments_lexer": "ipython3",
   "version": "3.10.18"
  }
 },
 "nbformat": 4,
 "nbformat_minor": 5
}
